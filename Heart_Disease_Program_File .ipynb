{
 "cells": [
  {
   "cell_type": "code",
   "execution_count": 1,
   "metadata": {},
   "outputs": [
    {
     "ename": "ModuleNotFoundError",
     "evalue": "No module named 'xgboost'",
     "output_type": "error",
     "traceback": [
      "\u001b[1;31m---------------------------------------------------------------------------\u001b[0m",
      "\u001b[1;31mModuleNotFoundError\u001b[0m                       Traceback (most recent call last)",
      "\u001b[1;32m<ipython-input-1-039abf505d16>\u001b[0m in \u001b[0;36m<module>\u001b[1;34m\u001b[0m\n\u001b[0;32m      6\u001b[0m \u001b[1;32mfrom\u001b[0m \u001b[0msklearn\u001b[0m\u001b[1;33m.\u001b[0m\u001b[0msvm\u001b[0m \u001b[1;32mimport\u001b[0m \u001b[0mSVC\u001b[0m\u001b[1;33m\u001b[0m\u001b[1;33m\u001b[0m\u001b[0m\n\u001b[0;32m      7\u001b[0m \u001b[1;32mfrom\u001b[0m \u001b[0msklearn\u001b[0m\u001b[1;33m.\u001b[0m\u001b[0mtree\u001b[0m \u001b[1;32mimport\u001b[0m \u001b[0mDecisionTreeClassifier\u001b[0m\u001b[1;33m,\u001b[0m\u001b[0mplot_tree\u001b[0m\u001b[1;33m\u001b[0m\u001b[1;33m\u001b[0m\u001b[0m\n\u001b[1;32m----> 8\u001b[1;33m \u001b[1;32mfrom\u001b[0m \u001b[0mxgboost\u001b[0m \u001b[1;32mimport\u001b[0m \u001b[0mXGBClassifier\u001b[0m\u001b[1;33m\u001b[0m\u001b[1;33m\u001b[0m\u001b[0m\n\u001b[0m\u001b[0;32m      9\u001b[0m \u001b[1;32mfrom\u001b[0m \u001b[0mlightgbm\u001b[0m \u001b[1;32mimport\u001b[0m \u001b[0mLGBMClassifier\u001b[0m\u001b[1;33m\u001b[0m\u001b[1;33m\u001b[0m\u001b[0m\n\u001b[0;32m     10\u001b[0m \u001b[1;32mfrom\u001b[0m \u001b[0msklearn\u001b[0m\u001b[1;33m.\u001b[0m\u001b[0mneighbors\u001b[0m \u001b[1;32mimport\u001b[0m \u001b[0mKNeighborsClassifier\u001b[0m\u001b[1;33m\u001b[0m\u001b[1;33m\u001b[0m\u001b[0m\n",
      "\u001b[1;31mModuleNotFoundError\u001b[0m: No module named 'xgboost'"
     ]
    }
   ],
   "source": [
    "import pandas as pd\n",
    "import numpy as np\n",
    "from sklearn.model_selection import train_test_split,GridSearchCV\n",
    "from sklearn.linear_model import LogisticRegression\n",
    "from sklearn.ensemble import RandomForestClassifier,AdaBoostClassifier,GradientBoostingClassifier\n",
    "from sklearn.svm import SVC\n",
    "from sklearn.tree import DecisionTreeClassifier,plot_tree\n",
    "#from xgboost import XGBClassifier\n",
    "from lightgbm import LGBMClassifier\n",
    "from sklearn.neighbors import KNeighborsClassifier\n",
    "from sklearn.naive_bayes import GaussianNB,MultinomialNB\n",
    "from sklearn.metrics import accuracy_score,recall_score,precision_score,confusion_matrix,classification_report,roc_auc_score,roc_curve\n",
    "from sklearn.preprocessing import StandardScaler,LabelEncoder\n",
    "import matplotlib.pyplot as plt\n",
    "import seaborn as sns\n",
    "import warnings\n",
    "warnings.filterwarnings('ignore')"
   ]
  },
  {
   "cell_type": "code",
   "execution_count": null,
   "metadata": {},
   "outputs": [],
   "source": [
    "data = pd.read_csv('heart_2020_cleaned.csv')\n",
    "data"
   ]
  },
  {
   "cell_type": "markdown",
   "metadata": {},
   "source": [
    "# EDA"
   ]
  },
  {
   "cell_type": "markdown",
   "metadata": {},
   "source": [
    "## 1. Shape of the data set"
   ]
  },
  {
   "cell_type": "code",
   "execution_count": null,
   "metadata": {},
   "outputs": [],
   "source": [
    "data.shape"
   ]
  },
  {
   "cell_type": "markdown",
   "metadata": {},
   "source": [
    "## 2. Data types"
   ]
  },
  {
   "cell_type": "code",
   "execution_count": null,
   "metadata": {},
   "outputs": [],
   "source": [
    "data.dtypes"
   ]
  },
  {
   "cell_type": "markdown",
   "metadata": {},
   "source": [
    "## 3. Check for null enteries"
   ]
  },
  {
   "cell_type": "code",
   "execution_count": null,
   "metadata": {},
   "outputs": [],
   "source": [
    "data.isna().sum()"
   ]
  },
  {
   "cell_type": "markdown",
   "metadata": {},
   "source": [
    "## 4. Check for duplicates"
   ]
  },
  {
   "cell_type": "code",
   "execution_count": null,
   "metadata": {},
   "outputs": [],
   "source": [
    "data[data.duplicated()]"
   ]
  },
  {
   "cell_type": "markdown",
   "metadata": {},
   "source": [
    "Since we have duplicate observations we need to drop them."
   ]
  },
  {
   "cell_type": "code",
   "execution_count": null,
   "metadata": {},
   "outputs": [],
   "source": [
    "data = data.drop_duplicates()\n",
    "data"
   ]
  },
  {
   "cell_type": "code",
   "execution_count": null,
   "metadata": {},
   "outputs": [],
   "source": [
    "data.to_csv('Heart_Disease_data_with_outliers.csv')"
   ]
  },
  {
   "cell_type": "markdown",
   "metadata": {},
   "source": [
    "## 5. Summary of data "
   ]
  },
  {
   "cell_type": "code",
   "execution_count": null,
   "metadata": {},
   "outputs": [],
   "source": [
    "data.describe()"
   ]
  },
  {
   "cell_type": "code",
   "execution_count": null,
   "metadata": {},
   "outputs": [],
   "source": [
    "data.describe(include='object')"
   ]
  },
  {
   "cell_type": "code",
   "execution_count": null,
   "metadata": {},
   "outputs": [],
   "source": [
    "data.info()"
   ]
  },
  {
   "cell_type": "code",
   "execution_count": null,
   "metadata": {},
   "outputs": [],
   "source": [
    "data.max()"
   ]
  },
  {
   "cell_type": "markdown",
   "metadata": {},
   "source": [
    "## 6. About the features"
   ]
  },
  {
   "cell_type": "markdown",
   "metadata": {},
   "source": [
    "We have total 18 features in that one is dependent variable 'Heart Disease' that is out output and other 17 are input features"
   ]
  },
  {
   "cell_type": "code",
   "execution_count": null,
   "metadata": {},
   "outputs": [],
   "source": [
    "columns = data.columns\n",
    "columns"
   ]
  },
  {
   "cell_type": "markdown",
   "metadata": {},
   "source": [
    "### For Smoking"
   ]
  },
  {
   "cell_type": "code",
   "execution_count": null,
   "metadata": {
    "scrolled": true
   },
   "outputs": [],
   "source": [
    "pd.value_counts(data['Smoking'])"
   ]
  },
  {
   "cell_type": "code",
   "execution_count": null,
   "metadata": {
    "scrolled": false
   },
   "outputs": [],
   "source": [
    "pd.crosstab(data['Smoking'],data['HeartDisease'],margins=True)"
   ]
  },
  {
   "cell_type": "code",
   "execution_count": null,
   "metadata": {},
   "outputs": [],
   "source": [
    "plt.figure(figsize=(10,6))\n",
    "sns.countplot(x='Smoking',hue='HeartDisease',data=data,order=['Yes','No'])\n",
    "plt.show()"
   ]
  },
  {
   "cell_type": "markdown",
   "metadata": {},
   "source": [
    "### For AlcoholDrinking"
   ]
  },
  {
   "cell_type": "code",
   "execution_count": null,
   "metadata": {},
   "outputs": [],
   "source": [
    "pd.value_counts(data['AlcoholDrinking'])"
   ]
  },
  {
   "cell_type": "code",
   "execution_count": null,
   "metadata": {
    "scrolled": true
   },
   "outputs": [],
   "source": [
    "pd.crosstab(data['AlcoholDrinking'],data['HeartDisease'],margins=True)"
   ]
  },
  {
   "cell_type": "code",
   "execution_count": null,
   "metadata": {},
   "outputs": [],
   "source": [
    "plt.figure(figsize=(10,6))\n",
    "sns.countplot(x='AlcoholDrinking',hue='HeartDisease',data=data,order=['Yes','No'])\n",
    "plt.show()"
   ]
  },
  {
   "cell_type": "markdown",
   "metadata": {},
   "source": [
    "###  For Stroke"
   ]
  },
  {
   "cell_type": "code",
   "execution_count": null,
   "metadata": {},
   "outputs": [],
   "source": [
    "pd.value_counts(data['Stroke'])"
   ]
  },
  {
   "cell_type": "code",
   "execution_count": null,
   "metadata": {
    "scrolled": true
   },
   "outputs": [],
   "source": [
    "pd.crosstab(data['Stroke'],data['HeartDisease'],margins=True)"
   ]
  },
  {
   "cell_type": "code",
   "execution_count": null,
   "metadata": {},
   "outputs": [],
   "source": [
    "plt.figure(figsize=(10,6))\n",
    "sns.countplot(x='Stroke',hue='HeartDisease',data=data,order=['Yes','No'])\n",
    "plt.show()"
   ]
  },
  {
   "cell_type": "markdown",
   "metadata": {},
   "source": [
    "### For DiffWalking"
   ]
  },
  {
   "cell_type": "code",
   "execution_count": null,
   "metadata": {
    "scrolled": true
   },
   "outputs": [],
   "source": [
    "pd.value_counts(data['DiffWalking'])"
   ]
  },
  {
   "cell_type": "code",
   "execution_count": null,
   "metadata": {
    "scrolled": false
   },
   "outputs": [],
   "source": [
    "pd.crosstab(data['DiffWalking'],data['HeartDisease'],margins=True)"
   ]
  },
  {
   "cell_type": "code",
   "execution_count": null,
   "metadata": {},
   "outputs": [],
   "source": [
    "plt.figure(figsize=(10,6))\n",
    "sns.countplot(x='DiffWalking',hue='HeartDisease',data=data,order=['Yes','No'])\n",
    "plt.show()"
   ]
  },
  {
   "cell_type": "markdown",
   "metadata": {},
   "source": [
    "###  For Sex"
   ]
  },
  {
   "cell_type": "code",
   "execution_count": null,
   "metadata": {},
   "outputs": [],
   "source": [
    "pd.value_counts(data['Sex'])"
   ]
  },
  {
   "cell_type": "code",
   "execution_count": null,
   "metadata": {
    "scrolled": false
   },
   "outputs": [],
   "source": [
    "pd.crosstab(data['Sex'],data['HeartDisease'],margins=True)"
   ]
  },
  {
   "cell_type": "code",
   "execution_count": null,
   "metadata": {},
   "outputs": [],
   "source": [
    "plt.figure(figsize=(10,6))\n",
    "sns.countplot(x='Sex',hue='HeartDisease',data=data,order=['Male','Female'])\n",
    "plt.show()"
   ]
  },
  {
   "cell_type": "markdown",
   "metadata": {},
   "source": [
    "### For AgeCategory"
   ]
  },
  {
   "cell_type": "code",
   "execution_count": null,
   "metadata": {
    "scrolled": false
   },
   "outputs": [],
   "source": [
    "pd.value_counts(data['AgeCategory'],ascending=True)"
   ]
  },
  {
   "cell_type": "code",
   "execution_count": null,
   "metadata": {
    "scrolled": true
   },
   "outputs": [],
   "source": [
    "pd.crosstab(data['AgeCategory'],data['HeartDisease'],margins=True)"
   ]
  },
  {
   "cell_type": "code",
   "execution_count": null,
   "metadata": {},
   "outputs": [],
   "source": [
    "plt.figure(figsize=(15,6))\n",
    "sns.countplot(x='AgeCategory',hue='HeartDisease',data=data,order=['18-24','25-29','30-34','35-39','40-44','45-49','50-54','55-59','60-64','65-69','70-74','75-79','80 or older'])\n",
    "plt.show()"
   ]
  },
  {
   "cell_type": "markdown",
   "metadata": {},
   "source": [
    "### For Race"
   ]
  },
  {
   "cell_type": "code",
   "execution_count": null,
   "metadata": {
    "scrolled": false
   },
   "outputs": [],
   "source": [
    "pd.value_counts(data['Race'])"
   ]
  },
  {
   "cell_type": "code",
   "execution_count": null,
   "metadata": {
    "scrolled": false
   },
   "outputs": [],
   "source": [
    "pd.crosstab(data['Race'],data['HeartDisease'],margins=True)"
   ]
  },
  {
   "cell_type": "code",
   "execution_count": null,
   "metadata": {},
   "outputs": [],
   "source": [
    "plt.figure(figsize=(12,6))\n",
    "sns.countplot(x='Race',hue='HeartDisease',data=data,order=['White','Hispanic','Black','Other','Asian','American Indian/Alaskan Native'])\n",
    "plt.show()"
   ]
  },
  {
   "cell_type": "markdown",
   "metadata": {},
   "source": [
    "### For Diabetic"
   ]
  },
  {
   "cell_type": "code",
   "execution_count": null,
   "metadata": {
    "scrolled": true
   },
   "outputs": [],
   "source": [
    "pd.value_counts(data['Diabetic'])"
   ]
  },
  {
   "cell_type": "code",
   "execution_count": null,
   "metadata": {
    "scrolled": true
   },
   "outputs": [],
   "source": [
    "pd.crosstab(data['Diabetic'],data['HeartDisease'],margins=True)"
   ]
  },
  {
   "cell_type": "code",
   "execution_count": null,
   "metadata": {},
   "outputs": [],
   "source": [
    "plt.figure(figsize=(10,6))\n",
    "sns.countplot(x='Diabetic',hue='HeartDisease',data=data,order=['Yes','No'])\n",
    "plt.show()"
   ]
  },
  {
   "cell_type": "markdown",
   "metadata": {},
   "source": [
    "### For PhysicalActivity"
   ]
  },
  {
   "cell_type": "code",
   "execution_count": null,
   "metadata": {
    "scrolled": true
   },
   "outputs": [],
   "source": [
    "pd.value_counts(data['PhysicalActivity'])"
   ]
  },
  {
   "cell_type": "code",
   "execution_count": null,
   "metadata": {
    "scrolled": false
   },
   "outputs": [],
   "source": [
    "pd.crosstab(data['PhysicalActivity'],data['HeartDisease'],margins=True)"
   ]
  },
  {
   "cell_type": "code",
   "execution_count": null,
   "metadata": {},
   "outputs": [],
   "source": [
    "plt.figure(figsize=(10,6))\n",
    "sns.countplot(x='PhysicalActivity',hue='HeartDisease',data=data,order=['Yes','No'])\n",
    "plt.show()"
   ]
  },
  {
   "cell_type": "markdown",
   "metadata": {},
   "source": [
    "### For GenHealth"
   ]
  },
  {
   "cell_type": "code",
   "execution_count": null,
   "metadata": {
    "scrolled": true
   },
   "outputs": [],
   "source": [
    "pd.value_counts(data['GenHealth'])"
   ]
  },
  {
   "cell_type": "code",
   "execution_count": null,
   "metadata": {
    "scrolled": false
   },
   "outputs": [],
   "source": [
    "pd.crosstab(data['GenHealth'],data['HeartDisease'],margins=True)"
   ]
  },
  {
   "cell_type": "code",
   "execution_count": null,
   "metadata": {},
   "outputs": [],
   "source": [
    "plt.figure(figsize=(12,6))\n",
    "sns.countplot(x='GenHealth',hue='HeartDisease',data=data,order=['Very good','Good','Excellent','Fair','Poor'])\n",
    "plt.show()"
   ]
  },
  {
   "cell_type": "markdown",
   "metadata": {},
   "source": [
    "### For Asthma"
   ]
  },
  {
   "cell_type": "code",
   "execution_count": null,
   "metadata": {
    "scrolled": true
   },
   "outputs": [],
   "source": [
    "pd.value_counts(data['Asthma'])"
   ]
  },
  {
   "cell_type": "code",
   "execution_count": null,
   "metadata": {
    "scrolled": false
   },
   "outputs": [],
   "source": [
    "pd.crosstab(data['Asthma'],data['HeartDisease'],margins=True)"
   ]
  },
  {
   "cell_type": "code",
   "execution_count": null,
   "metadata": {},
   "outputs": [],
   "source": [
    "plt.figure(figsize=(10,6))\n",
    "sns.countplot(x='Asthma',hue='HeartDisease',data=data,order=['Yes','No'])\n",
    "plt.show()"
   ]
  },
  {
   "cell_type": "markdown",
   "metadata": {},
   "source": [
    "### For KidneyDisease"
   ]
  },
  {
   "cell_type": "code",
   "execution_count": null,
   "metadata": {
    "scrolled": false
   },
   "outputs": [],
   "source": [
    "pd.value_counts(data['KidneyDisease'])"
   ]
  },
  {
   "cell_type": "code",
   "execution_count": null,
   "metadata": {
    "scrolled": false
   },
   "outputs": [],
   "source": [
    "pd.crosstab(data['KidneyDisease'],data['HeartDisease'],margins=True)"
   ]
  },
  {
   "cell_type": "code",
   "execution_count": null,
   "metadata": {},
   "outputs": [],
   "source": [
    "plt.figure(figsize=(10,6))\n",
    "sns.countplot(x='DiffWalking',hue='KidneyDisease',data=data,order=['Yes','No'])\n",
    "plt.show()"
   ]
  },
  {
   "cell_type": "markdown",
   "metadata": {},
   "source": [
    "### For SkinCancer"
   ]
  },
  {
   "cell_type": "code",
   "execution_count": null,
   "metadata": {
    "scrolled": true
   },
   "outputs": [],
   "source": [
    "pd.value_counts(data['SkinCancer'])"
   ]
  },
  {
   "cell_type": "code",
   "execution_count": null,
   "metadata": {
    "scrolled": false
   },
   "outputs": [],
   "source": [
    "pd.crosstab(data['SkinCancer'],data['HeartDisease'],margins=True)"
   ]
  },
  {
   "cell_type": "code",
   "execution_count": null,
   "metadata": {},
   "outputs": [],
   "source": [
    "plt.figure(figsize=(10,6))\n",
    "sns.countplot(x='SkinCancer',hue='HeartDisease',data=data,order=['Yes','No'])\n",
    "plt.show()"
   ]
  },
  {
   "cell_type": "markdown",
   "metadata": {},
   "source": [
    "## 7. Distribution of input variables"
   ]
  },
  {
   "cell_type": "code",
   "execution_count": null,
   "metadata": {},
   "outputs": [],
   "source": [
    "data.dtypes"
   ]
  },
  {
   "cell_type": "code",
   "execution_count": null,
   "metadata": {},
   "outputs": [],
   "source": [
    "sns.distplot(a=data['BMI'],hist=False)\n",
    "plt.show()"
   ]
  },
  {
   "cell_type": "code",
   "execution_count": null,
   "metadata": {},
   "outputs": [],
   "source": [
    "sns.distplot(a=data['PhysicalHealth'],hist=False)\n",
    "plt.show()"
   ]
  },
  {
   "cell_type": "code",
   "execution_count": null,
   "metadata": {},
   "outputs": [],
   "source": [
    "sns.distplot(a=data['MentalHealth'],hist=False)\n",
    "plt.show()"
   ]
  },
  {
   "cell_type": "code",
   "execution_count": null,
   "metadata": {},
   "outputs": [],
   "source": [
    "sns.distplot(a=data['SleepTime'],hist=False)\n",
    "plt.show()"
   ]
  },
  {
   "cell_type": "markdown",
   "metadata": {},
   "source": [
    "## 8. Finding Outliers"
   ]
  },
  {
   "cell_type": "code",
   "execution_count": null,
   "metadata": {},
   "outputs": [],
   "source": [
    "data.describe()"
   ]
  },
  {
   "cell_type": "code",
   "execution_count": null,
   "metadata": {},
   "outputs": [],
   "source": [
    "sns.boxplot(data=data['BMI'])\n",
    "plt.show()"
   ]
  },
  {
   "cell_type": "code",
   "execution_count": null,
   "metadata": {},
   "outputs": [],
   "source": [
    "sns.boxplot(data=data['PhysicalHealth'])\n",
    "plt.show()"
   ]
  },
  {
   "cell_type": "code",
   "execution_count": null,
   "metadata": {},
   "outputs": [],
   "source": [
    "sns.boxplot(data=data['MentalHealth'])\n",
    "plt.show()"
   ]
  },
  {
   "cell_type": "code",
   "execution_count": null,
   "metadata": {},
   "outputs": [],
   "source": [
    "sns.boxplot(data=data['SleepTime'])\n",
    "plt.show()"
   ]
  },
  {
   "cell_type": "code",
   "execution_count": null,
   "metadata": {},
   "outputs": [],
   "source": [
    "def finding_outliers(data):\n",
    "    Q1 = data.quantile(0.25)\n",
    "    Q3 = data.quantile(0.75)\n",
    "    IQR = Q3 - Q1\n",
    "    outliers = data[((data<(Q1-1.5*IQR)) | (data>(Q3+1.5*IQR)))]\n",
    "    return outliers\n"
   ]
  },
  {
   "cell_type": "code",
   "execution_count": null,
   "metadata": {},
   "outputs": [],
   "source": [
    "outliers = finding_outliers(data)\n",
    "outliers"
   ]
  },
  {
   "cell_type": "code",
   "execution_count": null,
   "metadata": {},
   "outputs": [],
   "source": [
    "def drop_outliers(data):\n",
    "    Q1 = data.quantile(0.25)\n",
    "    Q3 = data.quantile(0.75)\n",
    "    IQR = Q3 - Q1\n",
    "    not_outliers = data[~((data<(Q1-1.5*IQR)) | (data>(Q3+1.5*IQR)))]\n",
    "    outliers_droped = not_outliers.dropna().reset_index()\n",
    "    return outliers_droped\n",
    "    "
   ]
  },
  {
   "cell_type": "code",
   "execution_count": null,
   "metadata": {
    "scrolled": false
   },
   "outputs": [],
   "source": [
    "without_outlier_data = drop_outliers(data)\n",
    "without_outlier_data"
   ]
  },
  {
   "cell_type": "code",
   "execution_count": null,
   "metadata": {},
   "outputs": [],
   "source": [
    "del without_outlier_data['index']"
   ]
  },
  {
   "cell_type": "code",
   "execution_count": null,
   "metadata": {},
   "outputs": [],
   "source": [
    "without_outlier_data.to_csv('Heart_Disease_data_without_outliers.csv')"
   ]
  },
  {
   "cell_type": "code",
   "execution_count": null,
   "metadata": {},
   "outputs": [],
   "source": [
    "301717 -222531"
   ]
  },
  {
   "cell_type": "markdown",
   "metadata": {},
   "source": [
    "If we drop **outliers** then we will miss 79186 observations that means we are droping 25% of our data so we cant drop those many observations also if we drop outliers we will miss the major information about person **BMI** so we will work with data with outliers."
   ]
  },
  {
   "cell_type": "markdown",
   "metadata": {},
   "source": [
    "## 8. Cheaking for imbalence "
   ]
  },
  {
   "cell_type": "code",
   "execution_count": null,
   "metadata": {},
   "outputs": [],
   "source": [
    "data.shape"
   ]
  },
  {
   "cell_type": "code",
   "execution_count": null,
   "metadata": {},
   "outputs": [],
   "source": [
    "pd.value_counts(data['HeartDisease'])"
   ]
  },
  {
   "cell_type": "code",
   "execution_count": null,
   "metadata": {},
   "outputs": [],
   "source": [
    "le = LabelEncoder()\n",
    "data['HeartDisease'] = le.fit_transform(data['HeartDisease'])"
   ]
  },
  {
   "cell_type": "code",
   "execution_count": null,
   "metadata": {},
   "outputs": [],
   "source": [
    "plt.figure(figsize=(10,8))\n",
    "plt.pie(x=data['HeartDisease'].value_counts(),explode=(0.05,0),autopct='%1.0f%%',labels=['No','Yes'])\n",
    "plt.show()"
   ]
  },
  {
   "cell_type": "markdown",
   "metadata": {},
   "source": [
    "Here we have 274456 observations who dont have Heart disease and only 27261 observations have Heart disease so ita a highly imbalenced data with a proportion of 10:1"
   ]
  },
  {
   "cell_type": "markdown",
   "metadata": {},
   "source": [
    "##### Using over_sampling"
   ]
  },
  {
   "cell_type": "code",
   "execution_count": null,
   "metadata": {},
   "outputs": [],
   "source": [
    "class_count_yes,class_count_no = data['HeartDisease'].value_counts()\n",
    "class_yes  = data[data['HeartDisease']==1]\n",
    "class_no   = data[data['HeartDisease']==0]\n",
    "print('Class Yes :',class_yes.shape)\n",
    "print('Class No  :',class_no.shape)"
   ]
  },
  {
   "cell_type": "code",
   "execution_count": null,
   "metadata": {},
   "outputs": [],
   "source": [
    "class_yes_over = class_yes.sample(n=274456,random_state=15,replace=True)\n",
    "final_data = pd.concat([class_yes_over,class_no],axis=0)"
   ]
  },
  {
   "cell_type": "code",
   "execution_count": null,
   "metadata": {},
   "outputs": [],
   "source": [
    "final_data.shape"
   ]
  },
  {
   "cell_type": "code",
   "execution_count": null,
   "metadata": {},
   "outputs": [],
   "source": [
    "final_data.value_counts(final_data['HeartDisease'])"
   ]
  },
  {
   "cell_type": "code",
   "execution_count": null,
   "metadata": {},
   "outputs": [],
   "source": [
    "final_data"
   ]
  },
  {
   "cell_type": "code",
   "execution_count": null,
   "metadata": {},
   "outputs": [],
   "source": [
    "final_data.to_csv('cleaned_heart_disease.csv')"
   ]
  },
  {
   "cell_type": "code",
   "execution_count": null,
   "metadata": {},
   "outputs": [],
   "source": [
    "plt.figure(figsize=(10,8))\n",
    "plt.pie(x=final_data['HeartDisease'].value_counts(),explode=(0.05,0),autopct='%1.0f%%',labels=['Yes','No'])\n",
    "plt.show()"
   ]
  },
  {
   "cell_type": "markdown",
   "metadata": {},
   "source": [
    "# 9. Corelation between the features and Feature importance"
   ]
  },
  {
   "cell_type": "markdown",
   "metadata": {},
   "source": [
    "### Encoding the object features"
   ]
  },
  {
   "cell_type": "code",
   "execution_count": null,
   "metadata": {},
   "outputs": [],
   "source": [
    "non_numeric_data = final_data.select_dtypes('object')\n",
    "non_numeric_data = non_numeric_data.columns.values\n",
    "for col in non_numeric_data:\n",
    "    final_data[col] = LabelEncoder().fit_transform(final_data[col])"
   ]
  },
  {
   "cell_type": "code",
   "execution_count": null,
   "metadata": {},
   "outputs": [],
   "source": [
    "final_data.dtypes"
   ]
  },
  {
   "cell_type": "markdown",
   "metadata": {},
   "source": [
    "### Seperating Input and Output features"
   ]
  },
  {
   "cell_type": "code",
   "execution_count": null,
   "metadata": {},
   "outputs": [],
   "source": [
    "X = final_data.drop(columns='HeartDisease')\n",
    "y = final_data[['HeartDisease']]"
   ]
  },
  {
   "cell_type": "code",
   "execution_count": null,
   "metadata": {},
   "outputs": [],
   "source": [
    "X.shape,y.shape"
   ]
  },
  {
   "cell_type": "markdown",
   "metadata": {},
   "source": [
    "### Scaling Input features"
   ]
  },
  {
   "cell_type": "code",
   "execution_count": null,
   "metadata": {
    "scrolled": true
   },
   "outputs": [],
   "source": [
    "X_scaled = StandardScaler()\n",
    "X_scaled = X_scaled.fit_transform(X)\n",
    "X_scaled = pd.DataFrame(data=X_scaled,columns=X.columns)\n",
    "X_scaled"
   ]
  },
  {
   "cell_type": "markdown",
   "metadata": {},
   "source": [
    "### Check Corelation between input features"
   ]
  },
  {
   "cell_type": "code",
   "execution_count": null,
   "metadata": {},
   "outputs": [],
   "source": [
    "corr_matrix = X_scaled.corr()\n",
    "corr_matrix"
   ]
  },
  {
   "cell_type": "code",
   "execution_count": null,
   "metadata": {},
   "outputs": [],
   "source": [
    "plt.figure(figsize=(15,8))\n",
    "sns.heatmap(corr_matrix,annot=True)\n",
    "plt.show()"
   ]
  },
  {
   "cell_type": "markdown",
   "metadata": {},
   "source": [
    "There is no multicoliniarity between the input features"
   ]
  },
  {
   "cell_type": "markdown",
   "metadata": {},
   "source": [
    "### Dividing the data set for training and testing"
   ]
  },
  {
   "cell_type": "code",
   "execution_count": null,
   "metadata": {},
   "outputs": [],
   "source": [
    "X_train,X_test,y_train,y_test = train_test_split(X_scaled,y,random_state=12,stratify=y)"
   ]
  },
  {
   "cell_type": "code",
   "execution_count": null,
   "metadata": {},
   "outputs": [],
   "source": [
    "X_train.shape,X_test.shape,y_train.shape,y_test.shape"
   ]
  },
  {
   "cell_type": "markdown",
   "metadata": {},
   "source": [
    "### Checking for feature importance using DecisionTreeClassifier"
   ]
  },
  {
   "cell_type": "code",
   "execution_count": null,
   "metadata": {},
   "outputs": [],
   "source": [
    "dt_model = DecisionTreeClassifier()\n",
    "dt_model.fit(X_train,y_train)"
   ]
  },
  {
   "cell_type": "code",
   "execution_count": null,
   "metadata": {},
   "outputs": [],
   "source": [
    "imp_features = dt_model.feature_importances_\n",
    "imp_features = pd.DataFrame(data={'Features':X_scaled.columns,'DT IMP Features':imp_features})\n",
    "imp_features"
   ]
  },
  {
   "cell_type": "code",
   "execution_count": null,
   "metadata": {},
   "outputs": [],
   "source": [
    "imp_features = imp_features.sort_values(by='DT IMP Features',ascending=False)\n",
    "imp_features"
   ]
  },
  {
   "cell_type": "code",
   "execution_count": null,
   "metadata": {},
   "outputs": [],
   "source": [
    "plt.figure(figsize=(14,8))\n",
    "sns.barplot(x='DT IMP Features',y='Features',data=imp_features)\n",
    "plt.title('Decision Tree Feature Importance',size=25)\n",
    "plt.show()"
   ]
  },
  {
   "cell_type": "markdown",
   "metadata": {},
   "source": [
    "# Model Selection"
   ]
  },
  {
   "cell_type": "markdown",
   "metadata": {},
   "source": [
    "### Checking for best params using grid_search_cv by using DecisionTreeClassifier"
   ]
  },
  {
   "cell_type": "code",
   "execution_count": null,
   "metadata": {},
   "outputs": [],
   "source": [
    "grid_search = GridSearchCV(estimator=dt_model,param_grid={'criterion':['gini','entropy'],\n",
    "                                                          'max_depth':[1 , 2 , 3 , 4 , 5 , 6 , 7 , 8 , 9 , 10 , 11 , 12 , 13 , 14 , 15 , 16 , 17 , 18 , 19 , 20 , 21 , 22 , 23 , 24 , 25 , 26 , 27 , 28 , 29 , 30 , 31 , 32 , 33 , 34 , 35 , 36 , 37 , 38 , 39 , 40 , 41 , 42 , 43 , 44 , 45 , 46 , 47 , 48 , 49 , 50 , 51 , 52 , 53 , 54 , 55 , 56 , 57 , 58 , 59 , 60 ]})"
   ]
  },
  {
   "cell_type": "code",
   "execution_count": null,
   "metadata": {
    "scrolled": true
   },
   "outputs": [],
   "source": [
    "%%time\n",
    "grid_search= grid_search.fit(X_scaled,y)"
   ]
  },
  {
   "cell_type": "code",
   "execution_count": null,
   "metadata": {
    "scrolled": true
   },
   "outputs": [],
   "source": [
    "grid_search.best_params_"
   ]
  },
  {
   "cell_type": "markdown",
   "metadata": {},
   "source": [
    "### These are the models we are testing for our prediction\n",
    "\n",
    "##### 1. LogisticRegression\n",
    "##### 2.DecisionTreeClassifier\n",
    "##### 3.RandomForestClassifier\n",
    "##### 4.AdaBoostClassifier\n",
    "##### 5.GradientBoostingClassifier\n",
    "##### 6.XGBClassifier\n",
    "##### 7.LGBMClassifier\n",
    "##### 8.KNeighborsClassifier\n",
    "##### 9.GaussianNB"
   ]
  },
  {
   "cell_type": "markdown",
   "metadata": {},
   "source": [
    "### 1. LogisticRegression"
   ]
  },
  {
   "cell_type": "code",
   "execution_count": null,
   "metadata": {},
   "outputs": [],
   "source": [
    "%%time\n",
    "logistic_model = LogisticRegression()\n",
    "logistic_model.fit(X_train,y_train)"
   ]
  },
  {
   "cell_type": "code",
   "execution_count": null,
   "metadata": {},
   "outputs": [],
   "source": [
    "logistic_pred_train = logistic_model.predict(X_train)\n",
    "print('Accuracy Score                 :',round(accuracy_score(y_train,logistic_pred_train),4))\n",
    "print('Precision Score                :',round(precision_score(y_train,logistic_pred_train),4))\n",
    "print('Recall Score                   :',round(recall_score(y_train,logistic_pred_train),4))\n",
    "print('Confusion Matrix               :\\n',confusion_matrix(y_train,logistic_pred_train))\n",
    "print('Classification Report          :\\n',classification_report(y_train,logistic_pred_train))"
   ]
  },
  {
   "cell_type": "code",
   "execution_count": null,
   "metadata": {},
   "outputs": [],
   "source": [
    "logistic_pred_test = logistic_model.predict(X_test)\n",
    "print('Accuracy Score                 :',round(accuracy_score(y_test,logistic_pred_test),4))\n",
    "print('Precision Score                :',round(precision_score(y_test,logistic_pred_test),4))\n",
    "print('Recall Score                   :',round(recall_score(y_test,logistic_pred_test),4))\n",
    "print('Confusion Matrix               :\\n',confusion_matrix(y_test,logistic_pred_test))\n",
    "print('Classification Report          :\\n',classification_report(y_test,logistic_pred_test))"
   ]
  },
  {
   "cell_type": "code",
   "execution_count": null,
   "metadata": {},
   "outputs": [],
   "source": [
    "fpr, tpr, thresholds = roc_curve(y_test,logistic_model.predict_proba (X_test)[:,1])\n",
    "auc_score = roc_auc_score(y_test, logistic_pred_test)\n",
    "print('Area Under Curve     :',auc_score)\n",
    "plt.plot(fpr, tpr, color='red', label='logit model ( area  = %0.2f)'%auc_score)\n",
    "plt.plot([0, 1], [0, 1], 'k--')\n",
    "plt.xlabel('False Positive Rate or [1 - True Negative Rate]')\n",
    "plt.ylabel('True Positive Rate')"
   ]
  },
  {
   "cell_type": "markdown",
   "metadata": {},
   "source": [
    "### 2.DecisionTreeClassifier"
   ]
  },
  {
   "cell_type": "code",
   "execution_count": null,
   "metadata": {
    "scrolled": true
   },
   "outputs": [],
   "source": [
    "%%time\n",
    "dt_model = DecisionTreeClassifier(random_state=15,max_depth=57)\n",
    "dt_model.fit(X_train,y_train)"
   ]
  },
  {
   "cell_type": "code",
   "execution_count": null,
   "metadata": {},
   "outputs": [],
   "source": [
    "dt_pred_train = dt_model.predict(X_train)\n",
    "print('Accuracy Score                 :',round(accuracy_score(y_train,dt_pred_train),4))\n",
    "print('Precision Score                :',round(precision_score(y_train,dt_pred_train),4))\n",
    "print('Recall Score                   :',round(recall_score(y_train,dt_pred_train),4))\n",
    "print('Confusion Matrix               :\\n',confusion_matrix(y_train,dt_pred_train))\n",
    "print('Classification Report          :\\n',classification_report(y_train,dt_pred_train))"
   ]
  },
  {
   "cell_type": "code",
   "execution_count": null,
   "metadata": {},
   "outputs": [],
   "source": [
    "dt_pred_test = dt_model.predict(X_test)\n",
    "print('Accuracy Score                 :',round(accuracy_score(y_test,dt_pred_test),4))\n",
    "print('Precision Score                :',round(precision_score(y_test,dt_pred_test),4))\n",
    "print('Recall Score                   :',round(recall_score(y_test,dt_pred_test),4))\n",
    "print('Confusion Matrix               :\\n',confusion_matrix(y_test,dt_pred_test))\n",
    "print('Classification Report          :\\n',classification_report(y_test,dt_pred_test))"
   ]
  },
  {
   "cell_type": "code",
   "execution_count": null,
   "metadata": {},
   "outputs": [],
   "source": [
    "fpr, tpr, thresholds = roc_curve(y_test,dt_model.predict_proba (X_test)[:,1])\n",
    "auc_score = roc_auc_score(y_test, dt_pred_test)\n",
    "print('Area Under Curve     :',auc_score)\n",
    "plt.plot(fpr, tpr, color='red', label='logit model ( area  = %0.2f)'%auc_score)\n",
    "plt.plot([0, 1], [0, 1], 'k--')\n",
    "plt.xlabel('False Positive Rate or [1 - True Negative Rate]')\n",
    "plt.ylabel('True Positive Rate')"
   ]
  },
  {
   "cell_type": "markdown",
   "metadata": {},
   "source": [
    "### 3. RandomForestClassifier"
   ]
  },
  {
   "cell_type": "code",
   "execution_count": null,
   "metadata": {},
   "outputs": [],
   "source": [
    "%%time\n",
    "rf_model = RandomForestClassifier(random_state=15,max_depth=57)\n",
    "rf_model.fit(X_train,y_train)"
   ]
  },
  {
   "cell_type": "code",
   "execution_count": null,
   "metadata": {},
   "outputs": [],
   "source": [
    "rf_pred_train = rf_model.predict(X_train)\n",
    "print('Accuracy Score                 :',round(accuracy_score(y_train,rf_pred_train),4))\n",
    "print('Precision Score                :',round(precision_score(y_train,rf_pred_train),4))\n",
    "print('Recall Score                   :',round(recall_score(y_train,rf_pred_train),4))\n",
    "print('Confusion Matrix               :\\n',confusion_matrix(y_train,rf_pred_train))\n",
    "print('Classification Report          :\\n',classification_report(y_train,rf_pred_train))"
   ]
  },
  {
   "cell_type": "code",
   "execution_count": null,
   "metadata": {},
   "outputs": [],
   "source": [
    "rf_pred_test = rf_model.predict(X_test)\n",
    "print('Accuracy Score                 :',round(accuracy_score(y_test,rf_pred_test),4))\n",
    "print('Precision Score                :',round(precision_score(y_test,rf_pred_test),4))\n",
    "print('Recall Score                   :',round(recall_score(y_test,rf_pred_test),4))\n",
    "print('Confusion Matrix               :\\n',confusion_matrix(y_test,rf_pred_test))\n",
    "print('Classification Report          :\\n',classification_report(y_test,rf_pred_test))"
   ]
  },
  {
   "cell_type": "code",
   "execution_count": null,
   "metadata": {},
   "outputs": [],
   "source": [
    "fpr, tpr, thresholds = roc_curve(y_test,rf_model.predict_proba (X_test)[:,1])\n",
    "auc_score = roc_auc_score(y_test, rf_pred_test)\n",
    "print('Area Under Curve     :',auc_score)\n",
    "plt.plot(fpr, tpr, color='red', label='logit model ( area  = %0.2f)'%auc_score)\n",
    "plt.plot([0, 1], [0, 1], 'k--')\n",
    "plt.xlabel('False Positive Rate or [1 - True Negative Rate]')\n",
    "plt.ylabel('True Positive Rate')"
   ]
  },
  {
   "cell_type": "markdown",
   "metadata": {},
   "source": [
    "### 4. AdaBoostClassifier"
   ]
  },
  {
   "cell_type": "code",
   "execution_count": null,
   "metadata": {},
   "outputs": [],
   "source": [
    "%%time\n",
    "adaboost_model = AdaBoostClassifier(random_state=15)\n",
    "adaboost_model.fit(X_train,y_train)"
   ]
  },
  {
   "cell_type": "code",
   "execution_count": null,
   "metadata": {},
   "outputs": [],
   "source": [
    "adaboost_pred_train = adaboost_model.predict(X_train)\n",
    "print('Accuracy Score                 :',round(accuracy_score(y_train,adaboost_pred_train),4))\n",
    "print('Precision Score                :',round(precision_score(y_train,adaboost_pred_train),4))\n",
    "print('Recall Score                   :',round(recall_score(y_train,adaboost_pred_train),4))\n",
    "print('Confusion Matrix               :\\n',confusion_matrix(y_train,adaboost_pred_train))\n",
    "print('Classification Report          :\\n',classification_report(y_train,adaboost_pred_train))"
   ]
  },
  {
   "cell_type": "code",
   "execution_count": null,
   "metadata": {},
   "outputs": [],
   "source": [
    "adaboost_pred_test = adaboost_model.predict(X_test)\n",
    "print('Accuracy Score                 :',round(accuracy_score(y_test,adaboost_pred_test),4))\n",
    "print('Precision Score                :',round(precision_score(y_test,adaboost_pred_test),4))\n",
    "print('Recall Score                   :',round(recall_score(y_test,adaboost_pred_test),4))\n",
    "print('Confusion Matrix               :\\n',confusion_matrix(y_test,adaboost_pred_test))\n",
    "print('Classification Report          :\\n',classification_report(y_test,adaboost_pred_test))"
   ]
  },
  {
   "cell_type": "code",
   "execution_count": null,
   "metadata": {},
   "outputs": [],
   "source": [
    "fpr, tpr, thresholds = roc_curve(y_test,adaboost_model.predict_proba (X_test)[:,1])\n",
    "auc_score = roc_auc_score(y_test, adaboost_pred_test)\n",
    "print('Area Under Curve     :',auc_score)\n",
    "plt.plot(fpr, tpr, color='red', label='logit model ( area  = %0.2f)'%auc_score)\n",
    "plt.plot([0, 1], [0, 1], 'k--')\n",
    "plt.xlabel('False Positive Rate or [1 - True Negative Rate]')\n",
    "plt.ylabel('True Positive Rate')"
   ]
  },
  {
   "cell_type": "markdown",
   "metadata": {},
   "source": [
    "### 5. GradientBoostingClassifier"
   ]
  },
  {
   "cell_type": "code",
   "execution_count": null,
   "metadata": {},
   "outputs": [],
   "source": [
    "%%time\n",
    "gradient_model = GradientBoostingClassifier(random_state=15)\n",
    "gradient_model.fit(X_train,y_train)"
   ]
  },
  {
   "cell_type": "code",
   "execution_count": null,
   "metadata": {},
   "outputs": [],
   "source": [
    "gradient_pred_train = gradient_model.predict(X_train)\n",
    "print('Accuracy Score                 :',round(accuracy_score(y_train,gradient_pred_train),4))\n",
    "print('Precision Score                :',round(precision_score(y_train,gradient_pred_train),4))\n",
    "print('Recall Score                   :',round(recall_score(y_train,gradient_pred_train),4))\n",
    "print('Confusion Matrix               :\\n',confusion_matrix(y_train,gradient_pred_train))\n",
    "print('Classification Report          :\\n',classification_report(y_train,gradient_pred_train))"
   ]
  },
  {
   "cell_type": "code",
   "execution_count": null,
   "metadata": {},
   "outputs": [],
   "source": [
    "gradient_pred_test = gradient_model.predict(X_test)\n",
    "print('Accuracy Score                 :',round(accuracy_score(y_test,gradient_pred_test),4))\n",
    "print('Precision Score                :',round(precision_score(y_test,gradient_pred_test),4))\n",
    "print('Recall Score                   :',round(recall_score(y_test,gradient_pred_test),4))\n",
    "print('Confusion Matrix               :\\n',confusion_matrix(y_test,gradient_pred_test))\n",
    "print('Classification Report          :\\n',classification_report(y_test,gradient_pred_test))"
   ]
  },
  {
   "cell_type": "code",
   "execution_count": null,
   "metadata": {},
   "outputs": [],
   "source": [
    "fpr, tpr, thresholds = roc_curve(y_test,gradient_model.predict_proba (X_test)[:,1])\n",
    "auc_score = roc_auc_score(y_test, gradient_pred_test)\n",
    "print('Area Under Curve     :',auc_score)\n",
    "plt.plot(fpr, tpr, color='red', label='logit model ( area  = %0.2f)'%auc_score)\n",
    "plt.plot([0, 1], [0, 1], 'k--')\n",
    "plt.xlabel('False Positive Rate or [1 - True Negative Rate]')\n",
    "plt.ylabel('True Positive Rate')"
   ]
  },
  {
   "cell_type": "markdown",
   "metadata": {},
   "source": [
    "### 6. XGBClassifier"
   ]
  },
  {
   "cell_type": "code",
   "execution_count": null,
   "metadata": {},
   "outputs": [],
   "source": [
    "%%time\n",
    "xgb_model = XGBClassifier(max_depth=57,random_state=15)\n",
    "xgb_model.fit(X_train,y_train)"
   ]
  },
  {
   "cell_type": "code",
   "execution_count": null,
   "metadata": {},
   "outputs": [],
   "source": [
    "xgb_pred_train = xgb_model.predict(X_train)\n",
    "print('Accuracy Score                 :',round(accuracy_score(y_train,xgb_pred_train),4))\n",
    "print('Precision Score                :',round(precision_score(y_train,xgb_pred_train),4))\n",
    "print('Recall Score                   :',round(recall_score(y_train,xgb_pred_train),4))\n",
    "print('Confusion Matrix               :\\n',confusion_matrix(y_train,xgb_pred_train))\n",
    "print('Classification Report          :\\n',classification_report(y_train,xgb_pred_train))"
   ]
  },
  {
   "cell_type": "code",
   "execution_count": null,
   "metadata": {},
   "outputs": [],
   "source": [
    "xgb_pred_test = xgb_model.predict(X_test)\n",
    "print('Accuracy Score                 :',round(accuracy_score(y_test,xgb_pred_test),4))\n",
    "print('Precision Score                :',round(precision_score(y_test,xgb_pred_test),4))\n",
    "print('Recall Score                   :',round(recall_score(y_test,xgb_pred_test),4))\n",
    "print('Confusion Matrix               :\\n',confusion_matrix(y_test,xgb_pred_test))\n",
    "print('Classification Report          :\\n',classification_report(y_test,xgb_pred_test))"
   ]
  },
  {
   "cell_type": "code",
   "execution_count": null,
   "metadata": {},
   "outputs": [],
   "source": [
    "fpr, tpr, thresholds = roc_curve(y_test,xgb_model.predict_proba (X_test)[:,1])\n",
    "auc_score = roc_auc_score(y_test, xgb_pred_test)\n",
    "print('Area Under Curve     :',auc_score)\n",
    "plt.plot(fpr, tpr, color='red', label='logit model ( area  = %0.2f)'%auc_score)\n",
    "plt.plot([0, 1], [0, 1], 'k--')\n",
    "plt.xlabel('False Positive Rate or [1 - True Negative Rate]')\n",
    "plt.ylabel('True Positive Rate')"
   ]
  },
  {
   "cell_type": "markdown",
   "metadata": {},
   "source": [
    "### 7. LGBMClassifier"
   ]
  },
  {
   "cell_type": "code",
   "execution_count": null,
   "metadata": {},
   "outputs": [],
   "source": [
    "%%time\n",
    "lgb_model      = LGBMClassifier(max_depth=57,random_state=15)\n",
    "lgb_model.fit(X_train,y_train)"
   ]
  },
  {
   "cell_type": "code",
   "execution_count": null,
   "metadata": {},
   "outputs": [],
   "source": [
    "lgb_pred_train = lgb_model.predict(X_train)\n",
    "print('Accuracy Score                 :',round(accuracy_score(y_train,lgb_pred_train),4))\n",
    "print('Precision Score                :',round(precision_score(y_train,lgb_pred_train),4))\n",
    "print('Recall Score                   :',round(recall_score(y_train,lgb_pred_train),4))\n",
    "print('Confusion Matrix               :\\n',confusion_matrix(y_train,lgb_pred_train))\n",
    "print('Classification Report          :\\n',classification_report(y_train,lgb_pred_train))"
   ]
  },
  {
   "cell_type": "code",
   "execution_count": null,
   "metadata": {},
   "outputs": [],
   "source": [
    "lgb_pred_test = lgb_model.predict(X_test)\n",
    "print('Accuracy Score                 :',round(accuracy_score(y_test,lgb_pred_test),4))\n",
    "print('Precision Score                :',round(precision_score(y_test,lgb_pred_test),4))\n",
    "print('Recall Score                   :',round(recall_score(y_test,lgb_pred_test),4))\n",
    "print('Confusion Matrix               :\\n',confusion_matrix(y_test,lgb_pred_test))\n",
    "print('Classification Report          :\\n',classification_report(y_test,lgb_pred_test))"
   ]
  },
  {
   "cell_type": "code",
   "execution_count": null,
   "metadata": {},
   "outputs": [],
   "source": [
    "fpr, tpr, thresholds = roc_curve(y_test,lgb_model.predict_proba (X_test)[:,1])\n",
    "auc_score = roc_auc_score(y_test, lgb_pred_test)\n",
    "print('Area Under Curve     :',auc_score)\n",
    "plt.plot(fpr, tpr, color='red', label='logit model ( area  = %0.2f)'%auc_score)\n",
    "plt.plot([0, 1], [0, 1], 'k--')\n",
    "plt.xlabel('False Positive Rate or [1 - True Negative Rate]')\n",
    "plt.ylabel('True Positive Rate')"
   ]
  },
  {
   "cell_type": "markdown",
   "metadata": {},
   "source": [
    "### 8. KNeighborsClassifier"
   ]
  },
  {
   "cell_type": "code",
   "execution_count": null,
   "metadata": {
    "scrolled": false
   },
   "outputs": [],
   "source": [
    "%%time\n",
    "knn_model = KNeighborsClassifier()\n",
    "knn_model.fit(X_train,y_train)"
   ]
  },
  {
   "cell_type": "code",
   "execution_count": null,
   "metadata": {},
   "outputs": [],
   "source": [
    "knn_pred_train = knn_model.predict(X_train)\n",
    "print('Accuracy Score                 :',round(accuracy_score(y_train,knn_pred_train),4))\n",
    "print('Precision Score                :',round(precision_score(y_train,knn_pred_train),4))\n",
    "print('Recall Score                   :',round(recall_score(y_train,knn_pred_train),4))\n",
    "print('Confusion Matrix               :\\n',confusion_matrix(y_train,knn_pred_train))\n",
    "print('Classification Report          :\\n',classification_report(y_train,knn_pred_train))"
   ]
  },
  {
   "cell_type": "code",
   "execution_count": null,
   "metadata": {},
   "outputs": [],
   "source": [
    "knn_pred_test = knn_model.predict(X_test)\n",
    "print('Accuracy Score                 :',round(accuracy_score(y_test,knn_pred_test),4))\n",
    "print('Precision Score                :',round(precision_score(y_test,knn_pred_test),4))\n",
    "print('Recall Score                   :',round(recall_score(y_test,knn_pred_test),4))\n",
    "print('Confusion Matrix               :\\n',confusion_matrix(y_test,knn_pred_test))\n",
    "print('Classification Report          :\\n',classification_report(y_test,knn_pred_test))"
   ]
  },
  {
   "cell_type": "code",
   "execution_count": null,
   "metadata": {},
   "outputs": [],
   "source": [
    "fpr, tpr, thresholds = roc_curve(y_test,knn_model.predict_proba (X_test)[:,1])\n",
    "auc_score = roc_auc_score(y_test, knn_pred_test)\n",
    "print('Area Under Curve     :',auc_score)\n",
    "plt.plot(fpr, tpr, color='red', label='logit model ( area  = %0.2f)'%auc_score)\n",
    "plt.plot([0, 1], [0, 1], 'k--')\n",
    "plt.xlabel('False Positive Rate or [1 - True Negative Rate]')\n",
    "plt.ylabel('True Positive Rate')"
   ]
  },
  {
   "cell_type": "markdown",
   "metadata": {},
   "source": [
    "### 9. GaussianNB"
   ]
  },
  {
   "cell_type": "code",
   "execution_count": null,
   "metadata": {},
   "outputs": [],
   "source": [
    "%%time\n",
    "gauss_nb_model = GaussianNB()\n",
    "gauss_nb_model.fit(X_train,y_train)"
   ]
  },
  {
   "cell_type": "code",
   "execution_count": null,
   "metadata": {},
   "outputs": [],
   "source": [
    "gauss_nb_pred_train = gauss_nb_model.predict(X_train)\n",
    "print('Accuracy Score                 :',round(accuracy_score(y_train,gauss_nb_pred_train),4))\n",
    "print('Precision Score                :',round(precision_score(y_train,gauss_nb_pred_train),4))\n",
    "print('Recall Score                   :',round(recall_score(y_train,gauss_nb_pred_train),4))\n",
    "print('Confusion Matrix               :\\n',confusion_matrix(y_train,gauss_nb_pred_train))\n",
    "print('Classification Report          :\\n',classification_report(y_train,gauss_nb_pred_train))"
   ]
  },
  {
   "cell_type": "code",
   "execution_count": null,
   "metadata": {},
   "outputs": [],
   "source": [
    "gauss_nb_pred_test = gauss_nb_model.predict(X_test)\n",
    "print('Accuracy Score                 :',round(accuracy_score(y_test,gauss_nb_pred_test),4))\n",
    "print('Precision Score                :',round(precision_score(y_test,gauss_nb_pred_test),4))\n",
    "print('Recall Score                   :',round(recall_score(y_test,gauss_nb_pred_test),4))\n",
    "print('Confusion Matrix               :\\n',confusion_matrix(y_test,gauss_nb_pred_test))\n",
    "print('Classification Report          :\\n',classification_report(y_test,gauss_nb_pred_test))"
   ]
  },
  {
   "cell_type": "code",
   "execution_count": null,
   "metadata": {
    "scrolled": true
   },
   "outputs": [],
   "source": [
    "fpr, tpr, thresholds = roc_curve(y_test,gauss_nb_model.predict_proba (X_test)[:,1])\n",
    "auc_score = roc_auc_score(y_test, gauss_nb_pred_test)\n",
    "print('Area Under Curve     :',auc_score)\n",
    "plt.plot(fpr, tpr, color='red', label='logit model ( area  = %0.2f)'%auc_score)\n",
    "plt.plot([0, 1], [0, 1], 'k--')\n",
    "plt.xlabel('False Positive Rate or [1 - True Negative Rate]')\n",
    "plt.ylabel('True Positive Rate')"
   ]
  },
  {
   "cell_type": "markdown",
   "metadata": {},
   "source": [
    "### Results Comparison"
   ]
  },
  {
   "cell_type": "code",
   "execution_count": null,
   "metadata": {
    "scrolled": true
   },
   "outputs": [],
   "source": [
    "result_df = pd.DataFrame({'Models':['Logistic Regression','Decision Tree','Random Forest','Addaboost','Gradient Boosting','Extreme Gradient Boosting','Light Gradient Boosting','K-Nearest Neighbor','GaussianNB'],\n",
    "                          'Training Accuracy':[0.7483,0.9979,0.9979,0.7587,0.7631,0.9979,0.7695,0.9156,0.7027],\n",
    "                          'Test Accuracy':[0.7472,0.9500,0.9656,0.7565,0.7611,0.9634,0.7668,0.8832,0.7031],\n",
    "                          'Precision Score':[0.7383,0.9098,0.9363,0.7480,0.7422,0.9326,0.7399,0.8146,0.7557],\n",
    "                          'Recall Score':[0.7659,0.9990,0.9991,0.7738,0.8002,0.9991,0.8230,0.9932,0.6002],\n",
    "                          'AUC Score':[0.7472,0.9500,0.9655,0.7565,0.7611,0.9634,0.7668,0.8832,0.7030]})\n",
    "result_df"
   ]
  },
  {
   "cell_type": "code",
   "execution_count": null,
   "metadata": {},
   "outputs": [],
   "source": [
    "result_df = result_df.sort_values(by='Test Accuracy',ascending=False)\n",
    "result_df"
   ]
  },
  {
   "cell_type": "markdown",
   "metadata": {},
   "source": [
    "From above dataframe its clear that for random forest we got better accuracy as well as precision and recall score."
   ]
  },
  {
   "cell_type": "markdown",
   "metadata": {},
   "source": [
    "# Conclusion\n",
    "**Input Features                =** 'BMI', 'Smoking', 'AlcoholDrinking', 'Stroke','PhysicalHealth', 'MentalHealth',                                             'DiffWalking', 'Sex', 'AgeCategory','Race', 'Diabetic', 'PhysicalActivity',                                                 'GenHealth', 'SleepTime','Asthma', 'KidneyDisease', 'SkinCancer'\n",
    "\n",
    "**Output Feature                =** HeartDisease\n",
    "\n",
    "**Data Set Type                 =**  Balenced data set using Oversampling\n",
    "\n",
    "**Best Model                    =** Random Forest\n",
    "\n",
    "**Train Accuracy Score         :** 0.9979\t\n",
    "\n",
    "**Test Accuracy Score          :** 0.9656\n",
    "\n",
    "**Classification Report          :**\n",
    "\n",
    "               precision    recall  f1-score   support\n",
    "             \n",
    "           0       1.00      0.93      0.96     68614\n",
    "           1       0.94      1.00      0.97     68614\n"
   ]
  },
  {
   "cell_type": "markdown",
   "metadata": {},
   "source": [
    "### Dumping the best Model"
   ]
  },
  {
   "cell_type": "code",
   "execution_count": null,
   "metadata": {
    "scrolled": true
   },
   "outputs": [],
   "source": [
    "from pickle import dump\n",
    "dump(rf_model,open('rf_model.pkl','wb'))"
   ]
  },
  {
   "cell_type": "code",
   "execution_count": null,
   "metadata": {},
   "outputs": [],
   "source": []
  }
 ],
 "metadata": {
  "kernelspec": {
   "display_name": "Python 3",
   "language": "python",
   "name": "python3"
  },
  "language_info": {
   "codemirror_mode": {
    "name": "ipython",
    "version": 3
   },
   "file_extension": ".py",
   "mimetype": "text/x-python",
   "name": "python",
   "nbconvert_exporter": "python",
   "pygments_lexer": "ipython3",
   "version": "3.8.3"
  }
 },
 "nbformat": 4,
 "nbformat_minor": 5
}
